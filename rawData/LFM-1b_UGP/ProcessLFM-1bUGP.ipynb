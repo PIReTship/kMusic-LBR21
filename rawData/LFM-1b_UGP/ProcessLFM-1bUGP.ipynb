{
 "cells": [
  {
   "cell_type": "markdown",
   "id": "varied-franchise",
   "metadata": {},
   "source": [
    "# Purpose\n",
    "\n",
    "This notebook is to process the LastFM-1b UGP dataset to extract the data we are interested in. Go to http://www.cp.jku.at/datasets/LFM-1b/ to download the dataset and extract LFM-1b_UGP.zip into rawData/LFM-1b_UGP\n",
    "\n",
    "# Loading Libraries"
   ]
  },
  {
   "cell_type": "code",
   "execution_count": 1,
   "id": "english-hybrid",
   "metadata": {},
   "outputs": [],
   "source": [
    "import pandas as pd\n",
    "import numpy as np\n",
    "import seaborn as sns\n",
    "import matplotlib.pyplot as plt\n",
    "import itertools\n",
    "import os"
   ]
  },
  {
   "cell_type": "code",
   "execution_count": 2,
   "id": "higher-mailman",
   "metadata": {},
   "outputs": [],
   "source": [
    "import re\n",
    "def DropAllNullColumns(data):\n",
    "    columnsToDrop = []\n",
    "    for column in data.columns:\n",
    "        if data[column].isnull().values.all():\n",
    "            columnsToDrop.append(column)\n",
    "\n",
    "    print('Dropping all the following columns since all NaN values')\n",
    "    print(columnsToDrop)\n",
    "    data.drop(columnsToDrop, axis = 1, inplace = True)\n",
    "    \n",
    "def UpperCaseStringColumns(data):\n",
    "    for column in data.columns:\n",
    "        if (pd.api.types.infer_dtype(data[column]) == 'string'):\n",
    "            print(column + ': Upper Casing')\n",
    "            data[column] = data[column].str.upper()\n",
    "            \n",
    "def CompressIntegerColumns(data):\n",
    "    for column in data.columns:\n",
    "        if (np.issubdtype(data[column].dtype, np.integer)):       \n",
    "            minValue = data[column].min()\n",
    "            maxValue = data[column].max()\n",
    "            \n",
    "            info = np.iinfo\n",
    "            if minValue >= 0:\n",
    "                types = (np.uint8, np.uint16, np.uint32, np.uint64)\n",
    "            else:\n",
    "                types = (np.int8, np.int16, np.int32, np.int64)\n",
    "\n",
    "            for t in types:\n",
    "                if info(t).min <= minValue and maxValue <= info(t).max:\n",
    "                    #print(str(column) + ': Converting to ' + t.__name__)\n",
    "                    data[column] = data[column].astype(t)\n",
    "                    break\n",
    "                \n",
    "def ConvertFloatColumnsToIntegerIfNoDataLoss(data):\n",
    "    for column in data.columns:\n",
    "        try:\n",
    "            if (np.issubdtype(data[column].dtype, np.float)):\n",
    "                temp = data[column].astype(np.int64)\n",
    "\n",
    "                if ((temp == data[column]).all()):\n",
    "                    print(column + ': Converting to ' + str(temp.dtype))\n",
    "                    data[column] = temp\n",
    "        except:\n",
    "            pass\n",
    "\n",
    "def ConvertStringColumnsToInt(data):\n",
    "    for column in data.columns:\n",
    "        if (pd.api.types.infer_dtype(data[column]) == 'string'):\n",
    "            if data[column].isnull().values.any():\n",
    "                continue\n",
    "\n",
    "            if (data[column].apply(lambda x: re.match('^[0-9,-]+$', x) != None).all()):\n",
    "                print(column + ': Converting to int')\n",
    "                data[column] = data[column].str.replace(',', '')\n",
    "                data[column] = data[column].astype(np.int64) \n",
    "\n",
    "def ConvertStringColumnsToFloat(data):\n",
    "    for column in data.columns:\n",
    "        if (pd.api.types.infer_dtype(data[column]) == 'string'):\n",
    "            if data[column].isnull().values.any():\n",
    "                continue\n",
    "\n",
    "            if (data[column].apply(lambda x: re.match('^[0-9,-\\.]+$', x) != None).all()):\n",
    "                print(column + ': Converting to float')\n",
    "                data[column] = data[column].str.replace(',', '')\n",
    "                data[column] = data[column].astype(np.float64)\n",
    "                                \n",
    "def InspectColumnValues(data):\n",
    "    for column in data.columns:\n",
    "        try:\n",
    "            values = data[column].unique()\n",
    "            print(column + ': ' + str(len(values)))\n",
    "            print(values[0:10])\n",
    "            print()\n",
    "        except:\n",
    "            print('Error with: ' + column)\n",
    "            \n",
    "def SaveData(data, name):\n",
    "    data = data.reset_index(drop = True)\n",
    "    data.columns = data.columns.str.replace('_', ' ').str.title()\n",
    "    if (os.path.exists('../../data/') == False):\n",
    "        os.makedirs('../../data/')\n",
    "            \n",
    "    data.to_parquet('../../data/' + name + '.gzip.parquet', compression = 'gzip', index = False)\n",
    "    return pd.read_parquet('../../data/' + name + '.gzip.parquet')"
   ]
  },
  {
   "cell_type": "markdown",
   "id": "opposite-scott",
   "metadata": {},
   "source": [
    "## Loading Artists listened to by kids"
   ]
  },
  {
   "cell_type": "code",
   "execution_count": 3,
   "id": "verbal-organization",
   "metadata": {},
   "outputs": [],
   "source": [
    "artists = pd.read_parquet('../../data/LastFM1bKidListeningEventsWithUsers', columns = ['Artist'])\n",
    "artists = artists['Artist'].cat"
   ]
  },
  {
   "cell_type": "markdown",
   "id": "chinese-payment",
   "metadata": {},
   "source": [
    "## Building Artist to Freebase Genre Map\n",
    "### Loading Data"
   ]
  },
  {
   "cell_type": "code",
   "execution_count": 4,
   "id": "anonymous-times",
   "metadata": {},
   "outputs": [
    {
     "name": "stdout",
     "output_type": "stream",
     "text": [
      "585055\n"
     ]
    },
    {
     "data": {
      "text/html": [
       "<div>\n",
       "<style scoped>\n",
       "    .dataframe tbody tr th:only-of-type {\n",
       "        vertical-align: middle;\n",
       "    }\n",
       "\n",
       "    .dataframe tbody tr th {\n",
       "        vertical-align: top;\n",
       "    }\n",
       "\n",
       "    .dataframe thead th {\n",
       "        text-align: right;\n",
       "    }\n",
       "</style>\n",
       "<table border=\"1\" class=\"dataframe\">\n",
       "  <thead>\n",
       "    <tr style=\"text-align: right;\">\n",
       "      <th></th>\n",
       "      <th>Artist</th>\n",
       "      <th>Genre</th>\n",
       "      <th>Genre</th>\n",
       "      <th>Genre</th>\n",
       "      <th>Genre</th>\n",
       "      <th>Genre</th>\n",
       "      <th>Genre</th>\n",
       "      <th>Genre</th>\n",
       "      <th>Genre</th>\n",
       "      <th>Genre</th>\n",
       "      <th>...</th>\n",
       "      <th>Genre</th>\n",
       "      <th>Genre</th>\n",
       "      <th>Genre</th>\n",
       "      <th>Genre</th>\n",
       "      <th>Genre</th>\n",
       "      <th>Genre</th>\n",
       "      <th>Genre</th>\n",
       "      <th>Genre</th>\n",
       "      <th>Genre</th>\n",
       "      <th>Genre</th>\n",
       "    </tr>\n",
       "  </thead>\n",
       "  <tbody>\n",
       "    <tr>\n",
       "      <th>0</th>\n",
       "      <td>Megadeth</td>\n",
       "      <td>12</td>\n",
       "      <td>1239</td>\n",
       "      <td>25</td>\n",
       "      <td>1479</td>\n",
       "      <td>50</td>\n",
       "      <td>20</td>\n",
       "      <td>39</td>\n",
       "      <td></td>\n",
       "      <td>None</td>\n",
       "      <td>...</td>\n",
       "      <td>None</td>\n",
       "      <td>None</td>\n",
       "      <td>None</td>\n",
       "      <td>None</td>\n",
       "      <td>None</td>\n",
       "      <td>None</td>\n",
       "      <td>None</td>\n",
       "      <td>None</td>\n",
       "      <td>None</td>\n",
       "      <td>None</td>\n",
       "    </tr>\n",
       "    <tr>\n",
       "      <th>1</th>\n",
       "      <td>Lil Wayne</td>\n",
       "      <td>248</td>\n",
       "      <td>1181</td>\n",
       "      <td>248</td>\n",
       "      <td>998</td>\n",
       "      <td>1120</td>\n",
       "      <td>108</td>\n",
       "      <td>20</td>\n",
       "      <td>248</td>\n",
       "      <td>19</td>\n",
       "      <td>...</td>\n",
       "      <td>None</td>\n",
       "      <td>None</td>\n",
       "      <td>None</td>\n",
       "      <td>None</td>\n",
       "      <td>None</td>\n",
       "      <td>None</td>\n",
       "      <td>None</td>\n",
       "      <td>None</td>\n",
       "      <td>None</td>\n",
       "      <td>None</td>\n",
       "    </tr>\n",
       "    <tr>\n",
       "      <th>2</th>\n",
       "      <td>Foo Fighters</td>\n",
       "      <td>68</td>\n",
       "      <td>33</td>\n",
       "      <td>1287</td>\n",
       "      <td>50</td>\n",
       "      <td>153</td>\n",
       "      <td>1463</td>\n",
       "      <td>1902</td>\n",
       "      <td>56</td>\n",
       "      <td>1239</td>\n",
       "      <td>...</td>\n",
       "      <td>None</td>\n",
       "      <td>None</td>\n",
       "      <td>None</td>\n",
       "      <td>None</td>\n",
       "      <td>None</td>\n",
       "      <td>None</td>\n",
       "      <td>None</td>\n",
       "      <td>None</td>\n",
       "      <td>None</td>\n",
       "      <td>None</td>\n",
       "    </tr>\n",
       "    <tr>\n",
       "      <th>3</th>\n",
       "      <td>Porcupine Tree</td>\n",
       "      <td>39</td>\n",
       "      <td>1271</td>\n",
       "      <td>848</td>\n",
       "      <td>20</td>\n",
       "      <td>18</td>\n",
       "      <td>1287</td>\n",
       "      <td>1487</td>\n",
       "      <td>68</td>\n",
       "      <td>1239</td>\n",
       "      <td>...</td>\n",
       "      <td>None</td>\n",
       "      <td>None</td>\n",
       "      <td>None</td>\n",
       "      <td>None</td>\n",
       "      <td>None</td>\n",
       "      <td>None</td>\n",
       "      <td>None</td>\n",
       "      <td>None</td>\n",
       "      <td>None</td>\n",
       "      <td>None</td>\n",
       "    </tr>\n",
       "    <tr>\n",
       "      <th>4</th>\n",
       "      <td>No-Man</td>\n",
       "      <td>34</td>\n",
       "      <td>1069</td>\n",
       "      <td>1487</td>\n",
       "      <td>230</td>\n",
       "      <td>848</td>\n",
       "      <td>20</td>\n",
       "      <td>78</td>\n",
       "      <td>1287</td>\n",
       "      <td>26</td>\n",
       "      <td>...</td>\n",
       "      <td>None</td>\n",
       "      <td>None</td>\n",
       "      <td>None</td>\n",
       "      <td>None</td>\n",
       "      <td>None</td>\n",
       "      <td>None</td>\n",
       "      <td>None</td>\n",
       "      <td>None</td>\n",
       "      <td>None</td>\n",
       "      <td>None</td>\n",
       "    </tr>\n",
       "  </tbody>\n",
       "</table>\n",
       "<p>5 rows × 80 columns</p>\n",
       "</div>"
      ],
      "text/plain": [
       "           Artist Genre Genre Genre Genre Genre Genre Genre Genre Genre  ...  \\\n",
       "0        Megadeth    12  1239    25  1479    50    20    39        None  ...   \n",
       "1       Lil Wayne   248  1181   248   998  1120   108    20   248    19  ...   \n",
       "2    Foo Fighters    68    33  1287    50   153  1463  1902    56  1239  ...   \n",
       "3  Porcupine Tree    39  1271   848    20    18  1287  1487    68  1239  ...   \n",
       "4          No-Man    34  1069  1487   230   848    20    78  1287    26  ...   \n",
       "\n",
       "  Genre Genre Genre Genre Genre Genre Genre Genre Genre Genre  \n",
       "0  None  None  None  None  None  None  None  None  None  None  \n",
       "1  None  None  None  None  None  None  None  None  None  None  \n",
       "2  None  None  None  None  None  None  None  None  None  None  \n",
       "3  None  None  None  None  None  None  None  None  None  None  \n",
       "4  None  None  None  None  None  None  None  None  None  None  \n",
       "\n",
       "[5 rows x 80 columns]"
      ]
     },
     "execution_count": 4,
     "metadata": {},
     "output_type": "execute_result"
    }
   ],
   "source": [
    "with open('LFM-1b_artist_genres_freebase.txt', 'r', encoding='utf-8') as f:\n",
    "    file_lines = f.read().splitlines()\n",
    "    \n",
    "data = pd.DataFrame([string.split('\\t') for string in file_lines])\n",
    "\n",
    "data = data.rename(columns = {0: 'Artist'})\n",
    "for column in data.columns:\n",
    "    if (column == 'Artist'):\n",
    "        continue\n",
    "        \n",
    "    data = data.rename(columns = {column: 'Genre'})\n",
    "\n",
    "print(len(data))\n",
    "data.head(5)"
   ]
  },
  {
   "cell_type": "markdown",
   "id": "based-corps",
   "metadata": {},
   "source": [
    "### Filtering based on Artist kids listen to"
   ]
  },
  {
   "cell_type": "code",
   "execution_count": 5,
   "id": "computational-correspondence",
   "metadata": {},
   "outputs": [
    {
     "data": {
      "text/plain": [
       "176607"
      ]
     },
     "execution_count": 5,
     "metadata": {},
     "output_type": "execute_result"
    }
   ],
   "source": [
    "data = data[data['Artist'].str.upper().isin(artists.categories)].reset_index(drop = True)\n",
    "\n",
    "len(data)"
   ]
  },
  {
   "cell_type": "markdown",
   "id": "bright-buffalo",
   "metadata": {},
   "source": [
    "### Shaping Data to [Artist, Genre]"
   ]
  },
  {
   "cell_type": "code",
   "execution_count": 6,
   "id": "unexpected-thirty",
   "metadata": {},
   "outputs": [
    {
     "data": {
      "text/html": [
       "<div>\n",
       "<style scoped>\n",
       "    .dataframe tbody tr th:only-of-type {\n",
       "        vertical-align: middle;\n",
       "    }\n",
       "\n",
       "    .dataframe tbody tr th {\n",
       "        vertical-align: top;\n",
       "    }\n",
       "\n",
       "    .dataframe thead th {\n",
       "        text-align: right;\n",
       "    }\n",
       "</style>\n",
       "<table border=\"1\" class=\"dataframe\">\n",
       "  <thead>\n",
       "    <tr style=\"text-align: right;\">\n",
       "      <th></th>\n",
       "      <th>genre</th>\n",
       "    </tr>\n",
       "  </thead>\n",
       "  <tbody>\n",
       "    <tr>\n",
       "      <th>0</th>\n",
       "      <td>Classic rock</td>\n",
       "    </tr>\n",
       "    <tr>\n",
       "      <th>1</th>\n",
       "      <td>Blues</td>\n",
       "    </tr>\n",
       "    <tr>\n",
       "      <th>2</th>\n",
       "      <td>Black metal</td>\n",
       "    </tr>\n",
       "    <tr>\n",
       "      <th>3</th>\n",
       "      <td>Country</td>\n",
       "    </tr>\n",
       "    <tr>\n",
       "      <th>4</th>\n",
       "      <td>Christian alternative rock</td>\n",
       "    </tr>\n",
       "  </tbody>\n",
       "</table>\n",
       "</div>"
      ],
      "text/plain": [
       "                        genre\n",
       "0                Classic rock\n",
       "1                       Blues\n",
       "2                 Black metal\n",
       "3                     Country\n",
       "4  Christian alternative rock"
      ]
     },
     "execution_count": 6,
     "metadata": {},
     "output_type": "execute_result"
    }
   ],
   "source": [
    "genres = pd.read_csv('genres_freebase.txt', names=['genre'])\n",
    "genres.head(5)"
   ]
  },
  {
   "cell_type": "code",
   "execution_count": 7,
   "id": "399ece1c",
   "metadata": {},
   "outputs": [
    {
     "data": {
      "text/plain": [
       "1998"
      ]
     },
     "execution_count": 7,
     "metadata": {},
     "output_type": "execute_result"
    }
   ],
   "source": [
    "len(genres)"
   ]
  },
  {
   "cell_type": "code",
   "execution_count": 8,
   "id": "40afec29",
   "metadata": {},
   "outputs": [
    {
     "data": {
      "text/plain": [
       "1925"
      ]
     },
     "execution_count": 8,
     "metadata": {},
     "output_type": "execute_result"
    }
   ],
   "source": [
    "genres['genre'].str.upper().nunique()"
   ]
  },
  {
   "cell_type": "markdown",
   "id": "67b553d9",
   "metadata": {},
   "source": [
    "**NOTE:** Duplicate genres in Freebase"
   ]
  },
  {
   "cell_type": "code",
   "execution_count": 9,
   "id": "continental-cliff",
   "metadata": {},
   "outputs": [
    {
     "name": "stdout",
     "output_type": "stream",
     "text": [
      "Genre Id: Converting to int\n",
      "1175500\n"
     ]
    },
    {
     "data": {
      "text/html": [
       "<div>\n",
       "<style scoped>\n",
       "    .dataframe tbody tr th:only-of-type {\n",
       "        vertical-align: middle;\n",
       "    }\n",
       "\n",
       "    .dataframe tbody tr th {\n",
       "        vertical-align: top;\n",
       "    }\n",
       "\n",
       "    .dataframe thead th {\n",
       "        text-align: right;\n",
       "    }\n",
       "</style>\n",
       "<table border=\"1\" class=\"dataframe\">\n",
       "  <thead>\n",
       "    <tr style=\"text-align: right;\">\n",
       "      <th></th>\n",
       "      <th>Artist</th>\n",
       "      <th>Genre Id</th>\n",
       "    </tr>\n",
       "  </thead>\n",
       "  <tbody>\n",
       "    <tr>\n",
       "      <th>0</th>\n",
       "      <td>Megadeth</td>\n",
       "      <td>12</td>\n",
       "    </tr>\n",
       "    <tr>\n",
       "      <th>1</th>\n",
       "      <td>Megadeth</td>\n",
       "      <td>1239</td>\n",
       "    </tr>\n",
       "    <tr>\n",
       "      <th>2</th>\n",
       "      <td>Megadeth</td>\n",
       "      <td>25</td>\n",
       "    </tr>\n",
       "    <tr>\n",
       "      <th>3</th>\n",
       "      <td>Megadeth</td>\n",
       "      <td>1479</td>\n",
       "    </tr>\n",
       "    <tr>\n",
       "      <th>4</th>\n",
       "      <td>Megadeth</td>\n",
       "      <td>50</td>\n",
       "    </tr>\n",
       "  </tbody>\n",
       "</table>\n",
       "</div>"
      ],
      "text/plain": [
       "     Artist  Genre Id\n",
       "0  Megadeth        12\n",
       "1  Megadeth      1239\n",
       "2  Megadeth        25\n",
       "3  Megadeth      1479\n",
       "4  Megadeth        50"
      ]
     },
     "execution_count": 9,
     "metadata": {},
     "output_type": "execute_result"
    }
   ],
   "source": [
    "data = data.set_index('Artist').stack().reset_index()\n",
    "data = data.rename(columns = {0: 'Genre Id'})\n",
    "data = data[data['Genre Id'] != ''][['Artist', 'Genre Id']].reset_index(drop = True)\n",
    "ConvertStringColumnsToInt(data)\n",
    "print(len(data))\n",
    "data.head(5)"
   ]
  },
  {
   "cell_type": "code",
   "execution_count": 10,
   "id": "incorporated-danish",
   "metadata": {},
   "outputs": [
    {
     "data": {
      "text/plain": [
       "1098367"
      ]
     },
     "execution_count": 10,
     "metadata": {},
     "output_type": "execute_result"
    }
   ],
   "source": [
    "data = data.drop_duplicates().copy()\n",
    "len(data)"
   ]
  },
  {
   "cell_type": "markdown",
   "id": "generic-bunch",
   "metadata": {},
   "source": [
    "**NOTE:** There were duplicate rows in the LFM-1b_artist_genres_freebase.txt file"
   ]
  },
  {
   "cell_type": "code",
   "execution_count": 11,
   "id": "sharp-baseline",
   "metadata": {},
   "outputs": [
    {
     "name": "stdout",
     "output_type": "stream",
     "text": [
      "Artist: Upper Casing\n",
      "genre: Upper Casing\n"
     ]
    },
    {
     "data": {
      "text/plain": [
       "1098367"
      ]
     },
     "execution_count": 11,
     "metadata": {},
     "output_type": "execute_result"
    }
   ],
   "source": [
    "data = data.merge(genres, left_on = 'Genre Id', right_index = True).drop(columns = ['Genre Id'])\n",
    "UpperCaseStringColumns(data)\n",
    "len(data)"
   ]
  },
  {
   "cell_type": "markdown",
   "id": "ongoing-christian",
   "metadata": {},
   "source": [
    "### Saving for later use"
   ]
  },
  {
   "cell_type": "code",
   "execution_count": 12,
   "id": "married-employer",
   "metadata": {
    "scrolled": true
   },
   "outputs": [
    {
     "data": {
      "text/html": [
       "<div>\n",
       "<style scoped>\n",
       "    .dataframe tbody tr th:only-of-type {\n",
       "        vertical-align: middle;\n",
       "    }\n",
       "\n",
       "    .dataframe tbody tr th {\n",
       "        vertical-align: top;\n",
       "    }\n",
       "\n",
       "    .dataframe thead th {\n",
       "        text-align: right;\n",
       "    }\n",
       "</style>\n",
       "<table border=\"1\" class=\"dataframe\">\n",
       "  <thead>\n",
       "    <tr style=\"text-align: right;\">\n",
       "      <th></th>\n",
       "      <th>Artist</th>\n",
       "      <th>Genre</th>\n",
       "    </tr>\n",
       "  </thead>\n",
       "  <tbody>\n",
       "    <tr>\n",
       "      <th>0</th>\n",
       "      <td>MEGADETH</td>\n",
       "      <td>HEAVY METAL</td>\n",
       "    </tr>\n",
       "    <tr>\n",
       "      <th>1</th>\n",
       "      <td>DREAM THEATER</td>\n",
       "      <td>HEAVY METAL</td>\n",
       "    </tr>\n",
       "    <tr>\n",
       "      <th>2</th>\n",
       "      <td>AMON AMARTH</td>\n",
       "      <td>HEAVY METAL</td>\n",
       "    </tr>\n",
       "    <tr>\n",
       "      <th>3</th>\n",
       "      <td>ALTER BRIDGE</td>\n",
       "      <td>HEAVY METAL</td>\n",
       "    </tr>\n",
       "    <tr>\n",
       "      <th>4</th>\n",
       "      <td>LIMP BIZKIT</td>\n",
       "      <td>HEAVY METAL</td>\n",
       "    </tr>\n",
       "  </tbody>\n",
       "</table>\n",
       "</div>"
      ],
      "text/plain": [
       "          Artist        Genre\n",
       "0       MEGADETH  HEAVY METAL\n",
       "1  DREAM THEATER  HEAVY METAL\n",
       "2    AMON AMARTH  HEAVY METAL\n",
       "3   ALTER BRIDGE  HEAVY METAL\n",
       "4    LIMP BIZKIT  HEAVY METAL"
      ]
     },
     "execution_count": 12,
     "metadata": {},
     "output_type": "execute_result"
    }
   ],
   "source": [
    "for column in data.columns:\n",
    "    data[column] = data[column].astype('category')\n",
    "    \n",
    "data = SaveData(data, 'LastFM1bKidArtistToFreebaseGenre')\n",
    "data.head(5)"
   ]
  },
  {
   "cell_type": "markdown",
   "id": "corrected-flash",
   "metadata": {},
   "source": [
    "## Building Artist to All Music Genre Map\n",
    "### Loading Data"
   ]
  },
  {
   "cell_type": "code",
   "execution_count": 13,
   "id": "civilian-avenue",
   "metadata": {},
   "outputs": [
    {
     "name": "stdout",
     "output_type": "stream",
     "text": [
      "585055\n"
     ]
    },
    {
     "data": {
      "text/html": [
       "<div>\n",
       "<style scoped>\n",
       "    .dataframe tbody tr th:only-of-type {\n",
       "        vertical-align: middle;\n",
       "    }\n",
       "\n",
       "    .dataframe tbody tr th {\n",
       "        vertical-align: top;\n",
       "    }\n",
       "\n",
       "    .dataframe thead th {\n",
       "        text-align: right;\n",
       "    }\n",
       "</style>\n",
       "<table border=\"1\" class=\"dataframe\">\n",
       "  <thead>\n",
       "    <tr style=\"text-align: right;\">\n",
       "      <th></th>\n",
       "      <th>Artist</th>\n",
       "      <th>Genre</th>\n",
       "      <th>Genre</th>\n",
       "      <th>Genre</th>\n",
       "      <th>Genre</th>\n",
       "      <th>Genre</th>\n",
       "      <th>Genre</th>\n",
       "      <th>Genre</th>\n",
       "      <th>Genre</th>\n",
       "      <th>Genre</th>\n",
       "      <th>Genre</th>\n",
       "      <th>Genre</th>\n",
       "      <th>Genre</th>\n",
       "      <th>Genre</th>\n",
       "      <th>Genre</th>\n",
       "      <th>Genre</th>\n",
       "      <th>Genre</th>\n",
       "      <th>Genre</th>\n",
       "    </tr>\n",
       "  </thead>\n",
       "  <tbody>\n",
       "    <tr>\n",
       "      <th>0</th>\n",
       "      <td>Megadeth</td>\n",
       "      <td>19</td>\n",
       "      <td>3</td>\n",
       "      <td></td>\n",
       "      <td>None</td>\n",
       "      <td>None</td>\n",
       "      <td>None</td>\n",
       "      <td>None</td>\n",
       "      <td>None</td>\n",
       "      <td>None</td>\n",
       "      <td>None</td>\n",
       "      <td>None</td>\n",
       "      <td>None</td>\n",
       "      <td>None</td>\n",
       "      <td>None</td>\n",
       "      <td>None</td>\n",
       "      <td>None</td>\n",
       "      <td>None</td>\n",
       "    </tr>\n",
       "    <tr>\n",
       "      <th>1</th>\n",
       "      <td>Lil Wayne</td>\n",
       "      <td>3</td>\n",
       "      <td>18</td>\n",
       "      <td>0</td>\n",
       "      <td></td>\n",
       "      <td>None</td>\n",
       "      <td>None</td>\n",
       "      <td>None</td>\n",
       "      <td>None</td>\n",
       "      <td>None</td>\n",
       "      <td>None</td>\n",
       "      <td>None</td>\n",
       "      <td>None</td>\n",
       "      <td>None</td>\n",
       "      <td>None</td>\n",
       "      <td>None</td>\n",
       "      <td>None</td>\n",
       "      <td>None</td>\n",
       "    </tr>\n",
       "    <tr>\n",
       "      <th>2</th>\n",
       "      <td>Foo Fighters</td>\n",
       "      <td>16</td>\n",
       "      <td>15</td>\n",
       "      <td>18</td>\n",
       "      <td></td>\n",
       "      <td>None</td>\n",
       "      <td>None</td>\n",
       "      <td>None</td>\n",
       "      <td>None</td>\n",
       "      <td>None</td>\n",
       "      <td>None</td>\n",
       "      <td>None</td>\n",
       "      <td>None</td>\n",
       "      <td>None</td>\n",
       "      <td>None</td>\n",
       "      <td>None</td>\n",
       "      <td>None</td>\n",
       "      <td>None</td>\n",
       "    </tr>\n",
       "    <tr>\n",
       "      <th>3</th>\n",
       "      <td>Porcupine Tree</td>\n",
       "      <td>3</td>\n",
       "      <td>16</td>\n",
       "      <td></td>\n",
       "      <td>None</td>\n",
       "      <td>None</td>\n",
       "      <td>None</td>\n",
       "      <td>None</td>\n",
       "      <td>None</td>\n",
       "      <td>None</td>\n",
       "      <td>None</td>\n",
       "      <td>None</td>\n",
       "      <td>None</td>\n",
       "      <td>None</td>\n",
       "      <td>None</td>\n",
       "      <td>None</td>\n",
       "      <td>None</td>\n",
       "      <td>None</td>\n",
       "    </tr>\n",
       "    <tr>\n",
       "      <th>4</th>\n",
       "      <td>No-Man</td>\n",
       "      <td>2</td>\n",
       "      <td>3</td>\n",
       "      <td>16</td>\n",
       "      <td>18</td>\n",
       "      <td>12</td>\n",
       "      <td></td>\n",
       "      <td>None</td>\n",
       "      <td>None</td>\n",
       "      <td>None</td>\n",
       "      <td>None</td>\n",
       "      <td>None</td>\n",
       "      <td>None</td>\n",
       "      <td>None</td>\n",
       "      <td>None</td>\n",
       "      <td>None</td>\n",
       "      <td>None</td>\n",
       "      <td>None</td>\n",
       "    </tr>\n",
       "  </tbody>\n",
       "</table>\n",
       "</div>"
      ],
      "text/plain": [
       "           Artist Genre Genre Genre Genre Genre Genre Genre Genre Genre Genre  \\\n",
       "0        Megadeth    19     3        None  None  None  None  None  None  None   \n",
       "1       Lil Wayne     3    18     0        None  None  None  None  None  None   \n",
       "2    Foo Fighters    16    15    18        None  None  None  None  None  None   \n",
       "3  Porcupine Tree     3    16        None  None  None  None  None  None  None   \n",
       "4          No-Man     2     3    16    18    12        None  None  None  None   \n",
       "\n",
       "  Genre Genre Genre Genre Genre Genre Genre  \n",
       "0  None  None  None  None  None  None  None  \n",
       "1  None  None  None  None  None  None  None  \n",
       "2  None  None  None  None  None  None  None  \n",
       "3  None  None  None  None  None  None  None  \n",
       "4  None  None  None  None  None  None  None  "
      ]
     },
     "execution_count": 13,
     "metadata": {},
     "output_type": "execute_result"
    }
   ],
   "source": [
    "with open('LFM-1b_artist_genres_allmusic.txt', 'r', encoding='utf-8') as f:\n",
    "    file_lines = f.read().splitlines()\n",
    "    \n",
    "data = pd.DataFrame([string.split('\\t') for string in file_lines])\n",
    "\n",
    "data = data.rename(columns = {0: 'Artist'})\n",
    "for column in data.columns:\n",
    "    if (column == 'Artist'):\n",
    "        continue\n",
    "        \n",
    "    data = data.rename(columns = {column: 'Genre'})\n",
    "\n",
    "print(len(data))\n",
    "data.head(5)"
   ]
  },
  {
   "cell_type": "markdown",
   "id": "cubic-freight",
   "metadata": {},
   "source": [
    "### Filtering based on Artist kids listen to"
   ]
  },
  {
   "cell_type": "code",
   "execution_count": 14,
   "id": "royal-admission",
   "metadata": {},
   "outputs": [
    {
     "data": {
      "text/plain": [
       "176607"
      ]
     },
     "execution_count": 14,
     "metadata": {},
     "output_type": "execute_result"
    }
   ],
   "source": [
    "data = data[data['Artist'].str.upper().isin(artists.categories)].reset_index(drop = True)\n",
    "\n",
    "len(data)"
   ]
  },
  {
   "cell_type": "markdown",
   "id": "greater-baking",
   "metadata": {},
   "source": [
    "### Shaping Data to [Artist, Genre]\n"
   ]
  },
  {
   "cell_type": "code",
   "execution_count": 15,
   "id": "freelance-grill",
   "metadata": {},
   "outputs": [
    {
     "data": {
      "text/html": [
       "<div>\n",
       "<style scoped>\n",
       "    .dataframe tbody tr th:only-of-type {\n",
       "        vertical-align: middle;\n",
       "    }\n",
       "\n",
       "    .dataframe tbody tr th {\n",
       "        vertical-align: top;\n",
       "    }\n",
       "\n",
       "    .dataframe thead th {\n",
       "        text-align: right;\n",
       "    }\n",
       "</style>\n",
       "<table border=\"1\" class=\"dataframe\">\n",
       "  <thead>\n",
       "    <tr style=\"text-align: right;\">\n",
       "      <th></th>\n",
       "      <th>genre</th>\n",
       "    </tr>\n",
       "  </thead>\n",
       "  <tbody>\n",
       "    <tr>\n",
       "      <th>0</th>\n",
       "      <td>rnb</td>\n",
       "    </tr>\n",
       "    <tr>\n",
       "      <th>1</th>\n",
       "      <td>rap</td>\n",
       "    </tr>\n",
       "    <tr>\n",
       "      <th>2</th>\n",
       "      <td>electronic</td>\n",
       "    </tr>\n",
       "    <tr>\n",
       "      <th>3</th>\n",
       "      <td>rock</td>\n",
       "    </tr>\n",
       "    <tr>\n",
       "      <th>4</th>\n",
       "      <td>new age</td>\n",
       "    </tr>\n",
       "  </tbody>\n",
       "</table>\n",
       "</div>"
      ],
      "text/plain": [
       "        genre\n",
       "0         rnb\n",
       "1         rap\n",
       "2  electronic\n",
       "3        rock\n",
       "4     new age"
      ]
     },
     "execution_count": 15,
     "metadata": {},
     "output_type": "execute_result"
    }
   ],
   "source": [
    "genres = pd.read_csv('genres_allmusic.txt', names=['genre'])\n",
    "genres.head(5)"
   ]
  },
  {
   "cell_type": "code",
   "execution_count": 16,
   "id": "forbidden-upper",
   "metadata": {},
   "outputs": [
    {
     "name": "stdout",
     "output_type": "stream",
     "text": [
      "Genre Id: Converting to int\n",
      "223162\n"
     ]
    },
    {
     "data": {
      "text/html": [
       "<div>\n",
       "<style scoped>\n",
       "    .dataframe tbody tr th:only-of-type {\n",
       "        vertical-align: middle;\n",
       "    }\n",
       "\n",
       "    .dataframe tbody tr th {\n",
       "        vertical-align: top;\n",
       "    }\n",
       "\n",
       "    .dataframe thead th {\n",
       "        text-align: right;\n",
       "    }\n",
       "</style>\n",
       "<table border=\"1\" class=\"dataframe\">\n",
       "  <thead>\n",
       "    <tr style=\"text-align: right;\">\n",
       "      <th></th>\n",
       "      <th>Artist</th>\n",
       "      <th>Genre Id</th>\n",
       "    </tr>\n",
       "  </thead>\n",
       "  <tbody>\n",
       "    <tr>\n",
       "      <th>0</th>\n",
       "      <td>Megadeth</td>\n",
       "      <td>19</td>\n",
       "    </tr>\n",
       "    <tr>\n",
       "      <th>1</th>\n",
       "      <td>Megadeth</td>\n",
       "      <td>3</td>\n",
       "    </tr>\n",
       "    <tr>\n",
       "      <th>2</th>\n",
       "      <td>Lil Wayne</td>\n",
       "      <td>3</td>\n",
       "    </tr>\n",
       "    <tr>\n",
       "      <th>3</th>\n",
       "      <td>Lil Wayne</td>\n",
       "      <td>18</td>\n",
       "    </tr>\n",
       "    <tr>\n",
       "      <th>4</th>\n",
       "      <td>Lil Wayne</td>\n",
       "      <td>0</td>\n",
       "    </tr>\n",
       "  </tbody>\n",
       "</table>\n",
       "</div>"
      ],
      "text/plain": [
       "      Artist  Genre Id\n",
       "0   Megadeth        19\n",
       "1   Megadeth         3\n",
       "2  Lil Wayne         3\n",
       "3  Lil Wayne        18\n",
       "4  Lil Wayne         0"
      ]
     },
     "execution_count": 16,
     "metadata": {},
     "output_type": "execute_result"
    }
   ],
   "source": [
    "data = data.set_index('Artist').stack().reset_index()\n",
    "data = data.rename(columns = {0: 'Genre Id'})\n",
    "data = data[data['Genre Id'] != ''][['Artist', 'Genre Id']].reset_index(drop = True)\n",
    "ConvertStringColumnsToInt(data)\n",
    "print(len(data))\n",
    "data.head(5)"
   ]
  },
  {
   "cell_type": "code",
   "execution_count": 17,
   "id": "timely-cradle",
   "metadata": {},
   "outputs": [
    {
     "data": {
      "text/plain": [
       "219112"
      ]
     },
     "execution_count": 17,
     "metadata": {},
     "output_type": "execute_result"
    }
   ],
   "source": [
    "data = data.drop_duplicates().copy()\n",
    "len(data)"
   ]
  },
  {
   "cell_type": "markdown",
   "id": "vocal-potter",
   "metadata": {},
   "source": [
    "**NOTE:** There were duplicate rows in the LFM-1b_artist_genres_allmusic.txt file"
   ]
  },
  {
   "cell_type": "code",
   "execution_count": 18,
   "id": "executive-bridge",
   "metadata": {},
   "outputs": [
    {
     "name": "stdout",
     "output_type": "stream",
     "text": [
      "Artist: Upper Casing\n",
      "genre: Upper Casing\n"
     ]
    },
    {
     "data": {
      "text/plain": [
       "219112"
      ]
     },
     "execution_count": 18,
     "metadata": {},
     "output_type": "execute_result"
    }
   ],
   "source": [
    "data = data.merge(genres, left_on = 'Genre Id', right_index = True).drop(columns = ['Genre Id'])\n",
    "UpperCaseStringColumns(data)\n",
    "len(data)"
   ]
  },
  {
   "cell_type": "markdown",
   "id": "molecular-painting",
   "metadata": {},
   "source": [
    "### Saving for later use"
   ]
  },
  {
   "cell_type": "code",
   "execution_count": 19,
   "id": "experienced-ceramic",
   "metadata": {},
   "outputs": [
    {
     "data": {
      "text/html": [
       "<div>\n",
       "<style scoped>\n",
       "    .dataframe tbody tr th:only-of-type {\n",
       "        vertical-align: middle;\n",
       "    }\n",
       "\n",
       "    .dataframe tbody tr th {\n",
       "        vertical-align: top;\n",
       "    }\n",
       "\n",
       "    .dataframe thead th {\n",
       "        text-align: right;\n",
       "    }\n",
       "</style>\n",
       "<table border=\"1\" class=\"dataframe\">\n",
       "  <thead>\n",
       "    <tr style=\"text-align: right;\">\n",
       "      <th></th>\n",
       "      <th>Artist</th>\n",
       "      <th>Genre</th>\n",
       "    </tr>\n",
       "  </thead>\n",
       "  <tbody>\n",
       "    <tr>\n",
       "      <th>0</th>\n",
       "      <td>MEGADETH</td>\n",
       "      <td>HEAVY METAL</td>\n",
       "    </tr>\n",
       "    <tr>\n",
       "      <th>1</th>\n",
       "      <td>DREAM THEATER</td>\n",
       "      <td>HEAVY METAL</td>\n",
       "    </tr>\n",
       "    <tr>\n",
       "      <th>2</th>\n",
       "      <td>AMON AMARTH</td>\n",
       "      <td>HEAVY METAL</td>\n",
       "    </tr>\n",
       "    <tr>\n",
       "      <th>3</th>\n",
       "      <td>ALTER BRIDGE</td>\n",
       "      <td>HEAVY METAL</td>\n",
       "    </tr>\n",
       "    <tr>\n",
       "      <th>4</th>\n",
       "      <td>LIMP BIZKIT</td>\n",
       "      <td>HEAVY METAL</td>\n",
       "    </tr>\n",
       "  </tbody>\n",
       "</table>\n",
       "</div>"
      ],
      "text/plain": [
       "          Artist        Genre\n",
       "0       MEGADETH  HEAVY METAL\n",
       "1  DREAM THEATER  HEAVY METAL\n",
       "2    AMON AMARTH  HEAVY METAL\n",
       "3   ALTER BRIDGE  HEAVY METAL\n",
       "4    LIMP BIZKIT  HEAVY METAL"
      ]
     },
     "execution_count": 19,
     "metadata": {},
     "output_type": "execute_result"
    }
   ],
   "source": [
    "for column in data.columns:\n",
    "    data[column] = data[column].astype('category')\n",
    "\n",
    "data = SaveData(data, 'LastFM1bKidArtistToAllMusicGenre')\n",
    "data.head(5)"
   ]
  },
  {
   "cell_type": "code",
   "execution_count": null,
   "id": "fleet-surface",
   "metadata": {},
   "outputs": [],
   "source": []
  }
 ],
 "metadata": {
  "kernelspec": {
   "display_name": "Python 3",
   "language": "python",
   "name": "python3"
  },
  "language_info": {
   "codemirror_mode": {
    "name": "ipython",
    "version": 3
   },
   "file_extension": ".py",
   "mimetype": "text/x-python",
   "name": "python",
   "nbconvert_exporter": "python",
   "pygments_lexer": "ipython3",
   "version": "3.8.8"
  }
 },
 "nbformat": 4,
 "nbformat_minor": 5
}